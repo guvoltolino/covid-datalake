{
 "cells": [
  {
   "cell_type": "code",
   "execution_count": 0,
   "metadata": {
    "application/vnd.databricks.v1+cell": {
     "cellMetadata": {
      "byteLimit": 2048000,
      "rowLimit": 10000
     },
     "inputWidgets": {},
     "nuid": "c755f543-cebc-4acb-a69a-915247c7d4f7",
     "showTitle": false,
     "title": ""
    }
   },
   "outputs": [
    {
     "output_type": "stream",
     "name": "stdout",
     "output_type": "stream",
     "text": [
      "Out[25]: True"
     ]
    }
   ],
   "source": [
    "import os\n",
    "\n",
    "account_name = os.getenv('AZURE_STORAGE_ACCOUNT_NAME')\n",
    "account_key = os.getenv('AZURE_STORAGE_ACCOUNT_KEY')\n",
    "\n",
    "dbutils.fs.mount(\n",
    "    source=f\"wasbs://covid@{account_name}.blob.core.windows.net/bronze\",\n",
    "    mount_point=f\"/mnt/bronze\",\n",
    "    extra_configs={\n",
    "        f\"fs.azure.account.key.{account_name}.blob.core.windows.net\": account_key\n",
    "    },\n",
    ")"
   ]
  },
  {
   "cell_type": "code",
   "execution_count": 0,
   "metadata": {
    "application/vnd.databricks.v1+cell": {
     "cellMetadata": {
      "byteLimit": 2048000,
      "rowLimit": 10000
     },
     "inputWidgets": {},
     "nuid": "e91acbec-df7e-4343-b441-7e778c26e5bf",
     "showTitle": false,
     "title": ""
    }
   },
   "outputs": [
    {
     "output_type": "stream",
     "name": "stdout",
     "output_type": "stream",
     "text": [
      "Out[26]: True"
     ]
    }
   ],
   "source": [
    "# silver\n",
    "\n",
    "dbutils.fs.mount(\n",
    "    source=f\"wasbs://covid@{account_name}.blob.core.windows.net/prata\",\n",
    "    mount_point=f\"/mnt/prata\",\n",
    "    extra_configs={\n",
    "        f\"fs.azure.account.key.{account_name}.blob.core.windows.net\": account_key\n",
    "    },\n",
    ")"
   ]
  },
  {
   "cell_type": "code",
   "execution_count": 0,
   "metadata": {
    "application/vnd.databricks.v1+cell": {
     "cellMetadata": {
      "byteLimit": 2048000,
      "rowLimit": 10000
     },
     "inputWidgets": {},
     "nuid": "fb108fbe-fccf-4b52-b311-e1cb5b00c181",
     "showTitle": false,
     "title": ""
    }
   },
   "outputs": [
    {
     "output_type": "stream",
     "name": "stdout",
     "output_type": "stream",
     "text": [
      "Out[27]: True"
     ]
    }
   ],
   "source": [
    "# gold\n",
    "\n",
    "dbutils.fs.mount(\n",
    "    source=f\"wasbs://covid@{account_name}.blob.core.windows.net/ouro\",\n",
    "    mount_point=f\"/mnt/ouro\",\n",
    "    extra_configs={\n",
    "        f\"fs.azure.account.key.{account_name}.blob.core.windows.net\": account_key\n",
    "    },\n",
    ")"
   ]
  },
  {
   "cell_type": "code",
   "execution_count": 0,
   "metadata": {
    "application/vnd.databricks.v1+cell": {
     "cellMetadata": {
      "byteLimit": 2048000,
      "rowLimit": 10000
     },
     "inputWidgets": {},
     "nuid": "a720729c-1c82-4475-ac60-8833481de035",
     "showTitle": false,
     "title": ""
    }
   },
   "outputs": [
    {
     "output_type": "stream",
     "name": "stdout",
     "output_type": "stream",
     "text": [
      "Out[28]: DataFrame[]"
     ]
    }
   ],
   "source": [
    "# criar database\n",
    "\n",
    "spark.sql(\"CREATE DATABASE IF NOT EXISTS covid\")"
   ]
  },
  {
   "cell_type": "code",
   "execution_count": 0,
   "metadata": {
    "application/vnd.databricks.v1+cell": {
     "cellMetadata": {
      "byteLimit": 2048000,
      "rowLimit": 10000
     },
     "inputWidgets": {},
     "nuid": "d289dcb5-3598-4497-a13b-94a4f3d0f949",
     "showTitle": false,
     "title": ""
    }
   },
   "outputs": [],
   "source": [
    "# ler dados da camada bronze\n",
    "\n",
    "df_covid_br_bronze = (\n",
    "    spark.read.format(\"csv\")\n",
    "    .options(header=\"true\", infer_schema=\"true\", delimiter=\";\")\n",
    "    .load(\"dbfs:/mnt/bronze/SRAG_01-06.csv\")\n",
    ")"
   ]
  },
  {
   "cell_type": "code",
   "execution_count": 0,
   "metadata": {
    "application/vnd.databricks.v1+cell": {
     "cellMetadata": {
      "byteLimit": 2048000,
      "rowLimit": 10000
     },
     "inputWidgets": {},
     "nuid": "c23c4cc6-b686-4b2e-8a53-f7787910903c",
     "showTitle": false,
     "title": ""
    }
   },
   "outputs": [],
   "source": [
    "# limpeza dados vazios\n",
    "\n",
    "df_covid_br_silver = df_covid_br_bronze.filter(\n",
    "    df_covid_br_bronze.ID_REGIONA.isNotNull()\n",
    ")"
   ]
  },
  {
   "cell_type": "code",
   "execution_count": 0,
   "metadata": {
    "application/vnd.databricks.v1+cell": {
     "cellMetadata": {
      "byteLimit": 2048000,
      "rowLimit": 10000
     },
     "inputWidgets": {},
     "nuid": "3944cc56-0a7f-49dc-ab9b-b0f5e48bbc8f",
     "showTitle": false,
     "title": ""
    }
   },
   "outputs": [],
   "source": [
    "# transforma arquivos em parquet\n",
    "\n",
    "df_covid_br_silver.write.format(\"delta\").mode(\"overwrite\").save(\"/mnt/prata/br_covid\")"
   ]
  },
  {
   "cell_type": "code",
   "execution_count": 0,
   "metadata": {
    "application/vnd.databricks.v1+cell": {
     "cellMetadata": {
      "byteLimit": 2048000,
      "rowLimit": 10000
     },
     "inputWidgets": {},
     "nuid": "ce40f70a-1013-4c81-829c-85b461c39436",
     "showTitle": false,
     "title": ""
    }
   },
   "outputs": [],
   "source": [
    "# camada gold\n",
    "from pyspark.sql.functions import concat, to_date, year, month"
   ]
  },
  {
   "cell_type": "code",
   "execution_count": 0,
   "metadata": {
    "application/vnd.databricks.v1+cell": {
     "cellMetadata": {
      "byteLimit": 2048000,
      "rowLimit": 10000
     },
     "inputWidgets": {},
     "nuid": "c3273737-e8b4-405e-9629-18fc2766365e",
     "showTitle": false,
     "title": ""
    }
   },
   "outputs": [],
   "source": [
    "df_covid_br_silver = spark.read.format(\"delta\").load(\"/mnt/prata/br_covid\")"
   ]
  },
  {
   "cell_type": "code",
   "execution_count": 0,
   "metadata": {
    "application/vnd.databricks.v1+cell": {
     "cellMetadata": {
      "byteLimit": 2048000,
      "rowLimit": 10000
     },
     "inputWidgets": {},
     "nuid": "386c4217-0287-4be6-b005-a15c15102460",
     "showTitle": false,
     "title": ""
    }
   },
   "outputs": [],
   "source": [
    "# converte as datas do tipo string para date\n",
    "\n",
    "df_covid_br_silver = df_covid_br_silver.withColumn(\n",
    "    \"DT_NOTIFIC\", to_date(df_covid_br_silver[\"DT_NOTIFIC\"])\n",
    ")\n",
    "df_covid_br_silver = df_covid_br_silver.withColumn(\n",
    "    \"DT_SIN_PRI\", to_date(df_covid_br_silver[\"DT_SIN_PRI\"])\n",
    ")\n",
    "df_covid_br_silver = df_covid_br_silver.withColumn(\n",
    "    \"DT_NASC\", to_date(df_covid_br_silver[\"DT_NASC\"])\n",
    ")"
   ]
  },
  {
   "cell_type": "code",
   "execution_count": 0,
   "metadata": {
    "application/vnd.databricks.v1+cell": {
     "cellMetadata": {
      "byteLimit": 2048000,
      "rowLimit": 10000
     },
     "inputWidgets": {},
     "nuid": "e3e587bd-d821-4798-b8b7-e1b7b9acad6d",
     "showTitle": false,
     "title": ""
    }
   },
   "outputs": [],
   "source": [
    "# adicionar coluna data da carga\n",
    "from pyspark.sql.functions import current_date\n",
    "\n",
    "df_covid_br_gold = df_covid_br_silver.withColumn(\"DT_CARGA\", current_date())"
   ]
  },
  {
   "cell_type": "code",
   "execution_count": 0,
   "metadata": {
    "application/vnd.databricks.v1+cell": {
     "cellMetadata": {
      "byteLimit": 2048000,
      "rowLimit": 10000
     },
     "inputWidgets": {},
     "nuid": "79a90cf1-6039-468c-9cc6-a18bd5d407b2",
     "showTitle": false,
     "title": ""
    }
   },
   "outputs": [],
   "source": [
    "# renomeando colunas\n",
    "\n",
    "df_covid_br_gold = (\n",
    "    df_covid_br_gold.withColumnRenamed(\"DT_NOTIFIC\", \"DT_NOTIFICACAO\")\n",
    "    .withColumnRenamed(\"DT_SIN_PRI\", \"DT_PRIMEIROS_SINTOMAS\")\n",
    "    .withColumnRenamed(\"DT_NASC\", \"DT_NASCIMENTO\")\n",
    ")"
   ]
  },
  {
   "cell_type": "code",
   "execution_count": 0,
   "metadata": {
    "application/vnd.databricks.v1+cell": {
     "cellMetadata": {
      "byteLimit": 2048000,
      "rowLimit": 10000
     },
     "inputWidgets": {},
     "nuid": "db2905c5-19fc-4b6e-82cf-672d4af80275",
     "showTitle": false,
     "title": ""
    }
   },
   "outputs": [],
   "source": [
    "# adicionando colunas YEAR e MONTH\n",
    "\n",
    "df_covid_br_gold = df_covid_br_gold.withColumn(\n",
    "    \"YEAR\", year(df_covid_br_gold[\"DT_NOTIFICACAO\"])\n",
    ")\n",
    "df_covid_br_gold = df_covid_br_gold.withColumn(\n",
    "    \"MONTH\", month(df_covid_br_gold[\"DT_NOTIFICACAO\"])\n",
    ")"
   ]
  },
  {
   "cell_type": "code",
   "execution_count": 0,
   "metadata": {
    "application/vnd.databricks.v1+cell": {
     "cellMetadata": {
      "byteLimit": 2048000,
      "rowLimit": 10000
     },
     "inputWidgets": {},
     "nuid": "58a07dec-089d-4bc2-b7c9-a6889443ea66",
     "showTitle": false,
     "title": ""
    }
   },
   "outputs": [],
   "source": [
    "df_covid_br_gold.write.format(\"delta\").mode(\"overwrite\").option(\n",
    "    \"mergeSchema\", \"true\"\n",
    ").partitionBy(\"YEAR\", \"MONTH\").save(\"/mnt/gold/br_covid\")"
   ]
  },
  {
   "cell_type": "code",
   "execution_count": 0,
   "metadata": {
    "application/vnd.databricks.v1+cell": {
     "cellMetadata": {
      "byteLimit": 2048000,
      "rowLimit": 10000
     },
     "inputWidgets": {},
     "nuid": "5d35518c-49d3-4c21-84f2-520498ac6343",
     "showTitle": false,
     "title": ""
    }
   },
   "outputs": [],
   "source": [
    "# criar tabela agregada\n",
    "\n",
    "from pyspark.sql.functions import count\n",
    "\n",
    "selected_columns = [\n",
    "    \"year\",\n",
    "    \"month\",\n",
    "    \"DT_NOTIFICACAO\",\n",
    "    \"SG_UF_NOT\",\n",
    "    \"ID_MUNICIP\",\n",
    "    \"DT_CARGA\",\n",
    "]\n",
    "df_select_columns_gold = df_covid_br_gold.select(selected_columns)\n",
    "grouped_df = df_select_columns_gold.groupBy(selected_columns).agg(\n",
    "    count(\"*\").alias(\"count\")\n",
    ")"
   ]
  },
  {
   "cell_type": "code",
   "execution_count": 0,
   "metadata": {
    "application/vnd.databricks.v1+cell": {
     "cellMetadata": {
      "byteLimit": 2048000,
      "rowLimit": 10000
     },
     "inputWidgets": {},
     "nuid": "17ffece5-c365-44f0-9c6f-32edf1c4d742",
     "showTitle": false,
     "title": ""
    }
   },
   "outputs": [],
   "source": [
    "grouped_df.write.format(\"delta\").mode(\"overwrite\").partitionBy(\"YEAR\", \"MONTH\").save(\n",
    "    \"/mnt/gold/br_covid_gold_agg\"\n",
    ")"
   ]
  }
 ],
 "metadata": {
  "application/vnd.databricks.v1+notebook": {
   "dashboards": [],
   "environmentMetadata": null,
   "language": "python",
   "notebookMetadata": {
    "pythonIndentUnit": 4
   },
   "notebookName": "CovidAnalysis",
   "widgets": {}
  }
 },
 "nbformat": 4,
 "nbformat_minor": 0
}
